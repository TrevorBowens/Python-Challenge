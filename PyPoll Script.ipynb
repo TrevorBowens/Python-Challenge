{
 "cells": [
  {
   "cell_type": "code",
   "execution_count": 1,
   "metadata": {},
   "outputs": [],
   "source": [
    "import pandas as pd \n",
    "import os\n",
    "import csv"
   ]
  },
  {
   "cell_type": "code",
   "execution_count": 2,
   "metadata": {},
   "outputs": [],
   "source": [
    "inputFilePath1=os.path.join(\"election_data_1.csv\")\n",
    "inputFilePath2=os.path.join(\"election_data_2.csv\")\n",
    "files=[inputFilePath1,inputFilePath2]\n",
    "electiondata= pd.concat((pd.read_csv(f)for f in files))"
   ]
  },
  {
   "cell_type": "code",
   "execution_count": 3,
   "metadata": {},
   "outputs": [
    {
     "data": {
      "text/html": [
       "<div>\n",
       "<style scoped>\n",
       "    .dataframe tbody tr th:only-of-type {\n",
       "        vertical-align: middle;\n",
       "    }\n",
       "\n",
       "    .dataframe tbody tr th {\n",
       "        vertical-align: top;\n",
       "    }\n",
       "\n",
       "    .dataframe thead th {\n",
       "        text-align: right;\n",
       "    }\n",
       "</style>\n",
       "<table border=\"1\" class=\"dataframe\">\n",
       "  <thead>\n",
       "    <tr style=\"text-align: right;\">\n",
       "      <th></th>\n",
       "      <th>Voter ID</th>\n",
       "      <th>County</th>\n",
       "      <th>Candidate</th>\n",
       "    </tr>\n",
       "  </thead>\n",
       "  <tbody>\n",
       "    <tr>\n",
       "      <th>0</th>\n",
       "      <td>1405627</td>\n",
       "      <td>Harsaw</td>\n",
       "      <td>Vestal</td>\n",
       "    </tr>\n",
       "    <tr>\n",
       "      <th>1</th>\n",
       "      <td>1711723</td>\n",
       "      <td>Mershville</td>\n",
       "      <td>Vestal</td>\n",
       "    </tr>\n",
       "    <tr>\n",
       "      <th>2</th>\n",
       "      <td>1550639</td>\n",
       "      <td>Matterdawn</td>\n",
       "      <td>Vestal</td>\n",
       "    </tr>\n",
       "    <tr>\n",
       "      <th>3</th>\n",
       "      <td>1042621</td>\n",
       "      <td>Harsaw</td>\n",
       "      <td>Vestal</td>\n",
       "    </tr>\n",
       "    <tr>\n",
       "      <th>4</th>\n",
       "      <td>1583965</td>\n",
       "      <td>Matterdawn</td>\n",
       "      <td>Vestal</td>\n",
       "    </tr>\n",
       "  </tbody>\n",
       "</table>\n",
       "</div>"
      ],
      "text/plain": [
       "   Voter ID      County Candidate\n",
       "0   1405627      Harsaw    Vestal\n",
       "1   1711723  Mershville    Vestal\n",
       "2   1550639  Matterdawn    Vestal\n",
       "3   1042621      Harsaw    Vestal\n",
       "4   1583965  Matterdawn    Vestal"
      ]
     },
     "execution_count": 3,
     "metadata": {},
     "output_type": "execute_result"
    }
   ],
   "source": [
    "df=pd.DataFrame(electiondata) \n",
    "df.head()"
   ]
  },
  {
   "cell_type": "code",
   "execution_count": 4,
   "metadata": {},
   "outputs": [
    {
     "data": {
      "text/plain": [
       "Khan        2218231\n",
       "Correy       704200\n",
       "Li           492940\n",
       "Vestal       385440\n",
       "Torres       353320\n",
       "O'Tooley     105630\n",
       "Seth          40150\n",
       "Cordin        24090\n",
       "Name: Candidate, dtype: int64"
      ]
     },
     "execution_count": 4,
     "metadata": {},
     "output_type": "execute_result"
    }
   ],
   "source": [
    "TotalCandidateVotes=df[\"Candidate\"].value_counts() \n",
    "TotalCandidateVotes"
   ]
  },
  {
   "cell_type": "code",
   "execution_count": 5,
   "metadata": {},
   "outputs": [
    {
     "data": {
      "text/plain": [
       "4324001"
      ]
     },
     "execution_count": 5,
     "metadata": {},
     "output_type": "execute_result"
    }
   ],
   "source": [
    "TotalVotes=df[\"Voter ID\"].count() \n",
    "TotalVotes"
   ]
  },
  {
   "cell_type": "code",
   "execution_count": 6,
   "metadata": {},
   "outputs": [
    {
     "data": {
      "text/plain": [
       "Khan        0.513004\n",
       "Correy      0.162858\n",
       "Li          0.114001\n",
       "Vestal      0.089140\n",
       "Torres      0.081711\n",
       "O'Tooley    0.024429\n",
       "Seth        0.009285\n",
       "Cordin      0.005571\n",
       "Name: Candidate, dtype: float64"
      ]
     },
     "execution_count": 6,
     "metadata": {},
     "output_type": "execute_result"
    }
   ],
   "source": [
    "PercentDifference = TotalCandidateVotes/TotalVotes \n",
    "PercentDifference"
   ]
  },
  {
   "cell_type": "code",
   "execution_count": 7,
   "metadata": {},
   "outputs": [
    {
     "data": {
      "text/plain": [
       "<bound method Series.max of Khan        2218231\n",
       "Correy       704200\n",
       "Li           492940\n",
       "Vestal       385440\n",
       "Torres       353320\n",
       "O'Tooley     105630\n",
       "Seth          40150\n",
       "Cordin        24090\n",
       "Name: Candidate, dtype: int64>"
      ]
     },
     "execution_count": 7,
     "metadata": {},
     "output_type": "execute_result"
    }
   ],
   "source": [
    "Winner=TotalCandidateVotes.max \n",
    "Winner"
   ]
  },
  {
   "cell_type": "code",
   "execution_count": null,
   "metadata": {},
   "outputs": [],
   "source": []
  }
 ],
 "metadata": {
  "kernelspec": {
   "display_name": "Python 3",
   "language": "python",
   "name": "python3"
  },
  "language_info": {
   "codemirror_mode": {
    "name": "ipython",
    "version": 3
   },
   "file_extension": ".py",
   "mimetype": "text/x-python",
   "name": "python",
   "nbconvert_exporter": "python",
   "pygments_lexer": "ipython3",
   "version": "3.6.4"
  }
 },
 "nbformat": 4,
 "nbformat_minor": 2
}
