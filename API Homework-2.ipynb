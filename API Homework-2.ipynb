{
 "cells": [
  {
   "cell_type": "markdown",
   "metadata": {},
   "source": [
    "# Choosing representative sample set"
   ]
  },
  {
   "cell_type": "code",
   "execution_count": 7,
   "metadata": {},
   "outputs": [],
   "source": [
    "# Dependencies and Setup\n",
    "import matplotlib.pyplot as plt\n",
    "import pandas as pd\n",
    "import numpy as np\n",
    "import requests\n",
    "import time\n",
    "import random\n",
    "%matplotlib notebook\n",
    "# Import API key\n",
    "from config import api_key\n",
    "\n",
    "# Incorporated citipy to determine city based on latitude and longitude\n",
    "from citipy import citipy\n",
    "\n",
    "# Output File (CSV)\n",
    "output_data_file = \"output_data/cities.csv\"\n",
    "\n",
    "\n",
    "# Range of latitudes and longitudes\n",
    "lat_range = (-90, 90)\n",
    "lng_range = (-180, 180)"
   ]
  },
  {
   "cell_type": "code",
   "execution_count": 8,
   "metadata": {},
   "outputs": [
    {
     "data": {
      "text/plain": [
       "611"
      ]
     },
     "execution_count": 8,
     "metadata": {},
     "output_type": "execute_result"
    }
   ],
   "source": [
    "# List for holding lat_lngs and cities\n",
    "lat_lngs = []\n",
    "cities = []\n",
    "\n",
    "# Create a set of random lat and lng combinations\n",
    "lats = np.random.uniform(low=-90.000, high=90.000, size=1500)\n",
    "lngs = np.random.uniform(low=-180.000, high=180.000, size=1500)\n",
    "lat_lngs = zip(lats, lngs)\n",
    "\n",
    "# Identify nearest city for each lat, lng combination\n",
    "for lat_lng in lat_lngs:\n",
    "    city = citipy.nearest_city(lat_lng[0], lat_lng[1]).city_name\n",
    "    \n",
    "    # If the city is unique, then add it to a our cities list\n",
    "    if city not in cities:\n",
    "        cities.append(city)\n",
    "\n",
    "# Print the city count to confirm sufficient count\n",
    "len(cities)"
   ]
  },
  {
   "cell_type": "code",
   "execution_count": null,
   "metadata": {},
   "outputs": [],
   "source": [
    "#Use citypy to associate with the nearest city\n",
    "\n",
    "cities_df[\"Closest City name\"] = \"\" \n",
    "cities_df[\"Closest Country code\"] = \"\" \n",
    "\n",
    "#for index,row in cities_df.iterrows():\n",
    "    city = citipy.nearest_city(row[\"Latitude\"],row[\"Longitude\"])\n",
    "    cities_df.set_value(index,\"Closest City name\",city.city_name)\n",
    "    cities_df.set_value(index,\"Closest Country code\",city.country_code)"
   ]
  },
  {
   "cell_type": "code",
   "execution_count": null,
   "metadata": {},
   "outputs": [],
   "source": [
    "# Dropping random lat and lon samples from dataframe as they are not the exact coordinates for the\n",
    "#cities.\n",
    "\n",
    "clean_cities_df = cities_df.drop(['Latitude', 'Longitude'],axis=1)\n",
    "clean_cities_df\n",
    "\n",
    "# Dropping duplicate cities which may have resulted in the previous step\n",
    "\n",
    "clean_cities_df = clean_cities_df.drop_duplicates()\n",
    "clean_cities_df.shape"
   ]
  },
  {
   "cell_type": "code",
   "execution_count": null,
   "metadata": {},
   "outputs": [],
   "source": [
    "# Pick sample of 550 cities \n",
    "selected_cities = clean_cities_df.sample(550)\n",
    "\n",
    "selected_cities = selected_cities.reset_index(drop=True)"
   ]
  },
  {
   "cell_type": "markdown",
   "metadata": {},
   "source": [
    "# OpenWeatherMap"
   ]
  },
  {
   "cell_type": "code",
   "execution_count": null,
   "metadata": {},
   "outputs": [],
   "source": [
    "#Setting values for OpenWeatherMap API Calls\n",
    "\n",
    "base_url = \"http://api.openweathermap.org/data/2.5/weather?\"\n",
    "\n",
    "app_id = api_key\n",
    "\n",
    "params = {\"appid\" :app_id, \"units\":metric}\n",
    "\n"
   ]
  },
  {
   "cell_type": "code",
   "execution_count": null,
   "metadata": {},
   "outputs": [],
   "source": [
    "# SAMPLE JSON RESPONSE -\n",
    "#{\"coord\":{\"lon\":-0.13,\"lat\":51.51},\n",
    "#\"weather\":[{\"id\":300,\"main\":\"Drizzle\",\"description\":\"light intensity drizzle\",\"icon\":\"09d\"}],\n",
    "#\"base\":\"stations\",\n",
    "#\"main\":{\"temp\":280.32,\"pressure\":1012,\"humidity\":81,\"temp_min\":279.15,\"temp_max\":281.15},\n",
    "#\"visibility\":10000,\n",
    "# \"wind\":{\"speed\":4.1,\"deg\":80},\n",
    "# \"clouds\":{\"all\":90},\n",
    "# \"dt\":1485789600,\n",
    "# \"sys\":{\"type\":1,\"id\":5091,\"message\":0.0103,\"country\":\"GB\",\"sunrise\":1485762037,\"sunset\":14857948\n",
    "#75},\n",
    "# \"id\":2643743,\"name\":\"London\",\"cod\":200}\n",
    "\n",
    "def encrypt_key(input_url):\n",
    "    return input_url[0:53]+\"<YourKey>\"+input_url[85:]\n",
    "\n",
    "for index,row in selected_cities.iterrows():\n",
    "    params[\"q\"] =f'{row[\"Closest City name\"]},{row[\"Closest Country code\"]}'\n",
    "    print(f\"Retrieving weather information for {params['q']}\")\n",
    "    city_weather_resp = requests.get(base_url,params)\n",
    "    print(encrypt_key(city_weather_resp.url))\n",
    "    city_weather_resp = city_weather_resp.json() \n",
    "    selected_cities.set_value(index,\"Latitude\",city_weather_resp.get(\"coord\",{}).get(\"lat\")) \n",
    "    selected_cities.set_value(index,\"Longitude\",city_weather_resp.get(\"coord\",{}).get(\"lon\")) \n",
    "    selected_cities.set_value(index,\"Temperature\",city_weather_resp.get(\"main\",{}).get(\"temp_max\"))\n",
    "\n",
    "    selected_cities.set_value(index,\"Wind speed\",city_weather_resp.get(\"wind\",{}).get(\"speed\"))\n",
    "    selected_cities.set_value(index,\"Humidity\",city_weather_resp.get(\"main\",{}).get(\"humidity\"))\n",
    "    selected_cities.set_value(index,\"Cloudiness\",city_weather_resp.get(\"clouds\",{}).get(\"all\"))"
   ]
  },
  {
   "cell_type": "code",
   "execution_count": null,
   "metadata": {},
   "outputs": [],
   "source": [
    "# Drop cities with missing information\n",
    "selected_cities = selected_cities.dropna()\n",
    "selected_cities.shape\n",
    "selected_cities.to_csv(\"City_Weather_data.csv\")"
   ]
  },
  {
   "cell_type": "markdown",
   "metadata": {},
   "source": [
    "# Weather Analysis"
   ]
  },
  {
   "cell_type": "code",
   "execution_count": null,
   "metadata": {},
   "outputs": [],
   "source": []
  }
 ],
 "metadata": {
  "kernelspec": {
   "display_name": "Python 3",
   "language": "python",
   "name": "python3"
  },
  "language_info": {
   "codemirror_mode": {
    "name": "ipython",
    "version": 3
   },
   "file_extension": ".py",
   "mimetype": "text/x-python",
   "name": "python",
   "nbconvert_exporter": "python",
   "pygments_lexer": "ipython3",
   "version": "3.6.4"
  }
 },
 "nbformat": 4,
 "nbformat_minor": 2
}
